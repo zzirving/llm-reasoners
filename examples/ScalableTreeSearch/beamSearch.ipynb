{
 "cells": [
  {
   "cell_type": "code",
   "execution_count": 8,
   "metadata": {},
   "outputs": [
    {
     "name": "stdout",
     "output_type": "stream",
     "text": [
      "{'text': 'Step 1: To add 2+2, we simply add the two', 'meta_info': {'prompt_tokens': 10, 'completion_tokens': 16, 'completion_tokens_wo_jump_forward': 16, 'id': '935f9530f725435887cc3d2e316d2c0a'}, 'scores': [], 'forward_only': False}\n"
     ]
    }
   ],
   "source": [
    "#policy model\n",
    "import requests\n",
    "\n",
    "url = \"http://127.0.0.1:30020/generate\"  \n",
    "text = \"What is 2+2? 4\"\n",
    "\n",
    "response = requests.post(url, json={\"text\": text})\n",
    "\n",
    "if response.status_code == 200:\n",
    "    print(response.json()) \n",
    "else:\n",
    "    print(f\"Error: {response.status_code}\")\n"
   ]
  },
  {
   "cell_type": "code",
   "execution_count": 11,
   "metadata": {},
   "outputs": [
    {
     "name": "stdout",
     "output_type": "stream",
     "text": [
      "{'text': ' occasionałyныella ID)):olare CG Nepani биponsegableбург chip официаль', 'meta_info': {'prompt_tokens': 7, 'completion_tokens': 16, 'completion_tokens_wo_jump_forward': 16, 'id': '11bc8d22a8664cbcb4ec546c18ef2d4b'}, 'scores': [], 'forward_only': False}\n"
     ]
    }
   ],
   "source": [
    "#reward model\n",
    "import requests\n",
    "\n",
    "url = \"http://127.0.0.1:30010/generate\"  \n",
    "text = \"The Answer is: 4\"\n",
    "\n",
    "response = requests.post(url, json={\"text\": text})\n",
    "\n",
    "if response.status_code == 200:\n",
    "    print(response.json()) \n",
    "else:\n",
    "    print(f\"Error: {response.status_code}\")"
   ]
  },
  {
   "cell_type": "code",
   "execution_count": 12,
   "metadata": {},
   "outputs": [],
   "source": [
    "# import sys\n",
    "# sys.path.append('/data/irving/llm-reasoners/examples/ScalableTreeSearch/sglang/python')\n",
    "import argparse\n",
    "import sglang as sgl\n",
    "from sglang import RuntimeEndpoint, function, gen\n",
    "from sglang.test.test_utils import (\n",
    "    add_common_sglang_args_and_parse,\n",
    "    select_sglang_backend,\n",
    ")\n",
    "import time"
   ]
  },
  {
   "cell_type": "code",
   "execution_count": 13,
   "metadata": {},
   "outputs": [],
   "source": [
    "import random\n",
    "import re\n",
    "from typing import Literal\n",
    "\n",
    "import blobfile as bf\n",
    "import pandas\n",
    "\n",
    "import common\n",
    "from common import ANSWER_PATTERN, HTML_JINJA, check_equality\n",
    "from eval_types import Eval, EvalResult, SamplerBase, SingleEvalResult\n",
    "\n",
    "split = \"my_math_500_test\"\n",
    "df = pandas.read_csv(\n",
    "    bf.BlobFile(f\"{split}.csv\")\n",
    ")\n",
    "examples = [row.to_dict() for _, row in df.iterrows()]"
   ]
  },
  {
   "cell_type": "code",
   "execution_count": 14,
   "metadata": {},
   "outputs": [],
   "source": [
    "args = argparse.Namespace(\n",
    "    # data_path=\"sglang/benchmark/tree_of_thought_v0/test.jsonl\",\n",
    "    # num_questions=2,\n",
    "    port=10086,\n",
    "    parallel=16,\n",
    "    backend='srt',\n",
    "    host=\"http://127.0.0.1\",\n",
    "    result_file=\"results.txt\"\n",
    ")\n",
    "\n",
    "# q = \"\"\"If $x^3$ is a positive factor of $10!,$ how many possible integer values of $x$ are there?  (Reminder: For a positive integer $n$, the expression $n!$ stands for the product of the integers from 1 up to (and including) $n$.)\"\"\"\n",
    "\n",
    "arguments = [{\"question\": d['Question']} for d in examples[:100]]"
   ]
  },
  {
   "cell_type": "code",
   "execution_count": 15,
   "metadata": {},
   "outputs": [],
   "source": [
    "reward_host = RuntimeEndpoint(\"http://127.0.0.1:30010\")\n",
    "policy_host = RuntimeEndpoint(\"http://127.0.0.1:30020\")"
   ]
  },
  {
   "cell_type": "code",
   "execution_count": 16,
   "metadata": {},
   "outputs": [],
   "source": [
    "#select width state with highest score\n",
    "def select_top_k_state(state_list, state_scores, width):\n",
    "    state_score_pairs = list(zip(state_list, state_scores))\n",
    "    \n",
    "    sorted_state_score_pairs = sorted(state_score_pairs, key=lambda pair: pair[1], reverse=True)\n",
    "\n",
    "    selected_states = [pair[0] for pair in sorted_state_score_pairs[:width]]\n",
    "    \n",
    "    return selected_states\n",
    "\n",
    "#obtain reward_model score\n",
    "def obtain_score(state):\n",
    "    if state.scores() == [] or state.scores == None:\n",
    "        return 0\n",
    "    else:\n",
    "        return state.scores()[-1]"
   ]
  },
  {
   "cell_type": "code",
   "execution_count": 76,
   "metadata": {},
   "outputs": [],
   "source": [
    "import sglang as sgl\n",
    "from pprint import pprint\n",
    "max_steps = 30\n",
    "\n",
    "BEAM_SIZE = 4\n",
    "BEAM_WIDTH = 2\n",
    "assert BEAM_SIZE % BEAM_WIDTH == 0\n",
    "\n",
    "@sgl.function\n",
    "def beam_search(s, question):\n",
    "    s += sgl.user(\n",
    "        f\"\"\"Solve the following math problem step by step. Steps should be separated with two new lines. The last line of your response should be of the form Answer: $ANSWER (without quotes) where $ANSWER is the answer to the problem.\n",
    "        \n",
    "{question}\n",
    "\n",
    "Remember to separate steps with two new lines, and finally put your answer on its own line after \"Answer:\", and you do not need to use a \\\\boxed command.\"\"\"\n",
    "    )\n",
    "\n",
    "    s += sgl.assistant_begin()\n",
    "    forks = s.fork(BEAM_SIZE)\n",
    "    for fork in forks:\n",
    "        fork.set_score_backend(reward_host)\n",
    "        fork += sgl.gen(max_tokens=256, stop=[\"\\u043a\\u0438\"], temperature=0.5)\n",
    "        fork += sgl.gen(\"score\", max_tokens=0, forward_only=True, logits_require_id=8094)\n",
    "    \n",
    "    #step = s.text().split(\"\\n\\n\")\n",
    "    \n",
    "    cur_states = list(forks)\n",
    "    cur_scores = [obtain_score(fork) for fork in forks]\n",
    "    \n",
    "    answer_states = []\n",
    "\n",
    "    for _ in range(max_steps):\n",
    "        \n",
    "        cur_beam_width = min(BEAM_WIDTH, len(cur_states))\n",
    "        \n",
    "        cur_states = select_top_k_state(cur_states, cur_scores, cur_beam_width)\n",
    "        # expand to BEAM_SIZE states\n",
    "        new_states = []\n",
    "        new_scores = []\n",
    "\n",
    "        for state in cur_states:\n",
    "\n",
    "            # print(\"--B--\")\n",
    "            latest_step = state.text().split(\"\\n\")[-1]\n",
    "            if \"Answer:\" in latest_step or \"The answer is:\" in latest_step:\n",
    "                answer_states.append(state)\n",
    "                continue\n",
    "            \n",
    "            # print(\"--C--\")\n",
    "            forked_states = state.fork((BEAM_SIZE - 1) // cur_beam_width + 1)\n",
    "            for fork_state in forked_states:\n",
    "                fork_state.set_score_backend(reward_host)\n",
    "            forked_states +=  \"\\u043a\\u0438\" + sgl.gen(max_tokens=256, stop=[\"\\u043a\\u0438\"], temperature=0.5)\n",
    "            forked_states += sgl.gen(\"score\", max_tokens=0, forward_only=True, logits_require_id=8094)\n",
    "            \n",
    "            pprint(forked_states[0])\n",
    "            \n",
    "            new_states.extend(forked_states)\n",
    "            new_scores.extend([obtain_score(fork) for fork in forked_states])\n",
    "            \n",
    "        \n",
    "        # print(\"--D--\")\n",
    "        cur_states = new_states\n",
    "        cur_scores = new_scores\n",
    "        #pprint(list(cur_states))\n",
    "\n",
    "        if len(answer_states) > 0:\n",
    "            break\n",
    "            \n",
    "        \n",
    "    return answer_states\n"
   ]
  },
  {
   "cell_type": "code",
   "execution_count": 77,
   "metadata": {},
   "outputs": [
    {
     "name": "stderr",
     "output_type": "stream",
     "text": [
      "  0%|          | 0/1 [00:00<?, ?it/s]"
     ]
    },
    {
     "name": "stdout",
     "output_type": "stream",
     "text": [
      "ProgramState(USER:Solve the following math problem step by step. Steps should be separated with two new lines. The last line of your response should be of the form Answer: $ANSWER (without quotes) where $ANSWER is the answer to the problem.\n",
      "        \n",
      "Convert the point $(0,3)$ in rectangular coordinates to polar coordinates.  Enter your answer in the form $(r,\\theta),$ where $r > 0$ and $0 \\le \\theta < 2 \\pi.$\n",
      "\n",
      "Remember to separate steps with two new lines, and finally put your answer on its own line after \"Answer:\", and you do not need to use a \\boxed command.\n",
      "ASSISTANT:Step 1: To convert from rectangular coordinates to polar coordinates, we use the formulas $r = \\sqrt{x^2 + y^2}$ and $\\theta = \\arctan\\left(\\frac{y}{x}\\right)$. ки\n",
      "Step 2: In this case, $x = 0$ and $y = 3$, so $r = \\sqrt{0^2 + 3^2} = 3$. )\n",
      "ProgramState(USER:Solve the following math problem step by step. Steps should be separated with two new lines. The last line of your response should be of the form Answer: $ANSWER (without quotes) where $ANSWER is the answer to the problem.\n",
      "        \n",
      "Convert the point $(0,3)$ in rectangular coordinates to polar coordinates.  Enter your answer in the form $(r,\\theta),$ where $r > 0$ and $0 \\le \\theta < 2 \\pi.$\n",
      "\n",
      "Remember to separate steps with two new lines, and finally put your answer on its own line after \"Answer:\", and you do not need to use a \\boxed command.\n",
      "ASSISTANT:Step 1: To convert from rectangular coordinates to polar coordinates, we use the formulas $r = \\sqrt{x^2 + y^2}$ and $\\theta = \\arctan \\left(\\frac{y}{x}\\right)$. ки\n",
      "Step 2: In this case, $x = 0$ and $y = 3$, so $r = \\sqrt{0^2 + 3^2} = 3$. )\n",
      "ProgramState(USER:Solve the following math problem step by step. Steps should be separated with two new lines. The last line of your response should be of the form Answer: $ANSWER (without quotes) where $ANSWER is the answer to the problem.\n",
      "        \n",
      "Convert the point $(0,3)$ in rectangular coordinates to polar coordinates.  Enter your answer in the form $(r,\\theta),$ where $r > 0$ and $0 \\le \\theta < 2 \\pi.$\n",
      "\n",
      "Remember to separate steps with two new lines, and finally put your answer on its own line after \"Answer:\", and you do not need to use a \\boxed command.\n",
      "ASSISTANT:Step 1: To convert from rectangular coordinates to polar coordinates, we use the formulas $r = \\sqrt{x^2 + y^2}$ and $\\theta = \\arctan \\left(\\frac{y}{x}\\right)$. ки\n",
      "Step 2: In this case, $x = 0$ and $y = 3$, so $r = \\sqrt{0^2 + 3^2} = 3$. ки\n",
      "Step 3: Since $x$ is 0, $\\theta$ is undefined, so we can write $\\theta = \\text{undefined}$. )\n",
      "ProgramState(USER:Solve the following math problem step by step. Steps should be separated with two new lines. The last line of your response should be of the form Answer: $ANSWER (without quotes) where $ANSWER is the answer to the problem.\n",
      "        \n",
      "Convert the point $(0,3)$ in rectangular coordinates to polar coordinates.  Enter your answer in the form $(r,\\theta),$ where $r > 0$ and $0 \\le \\theta < 2 \\pi.$\n",
      "\n",
      "Remember to separate steps with two new lines, and finally put your answer on its own line after \"Answer:\", and you do not need to use a \\boxed command.\n",
      "ASSISTANT:Step 1: To convert from rectangular coordinates to polar coordinates, we use the formulas $r = \\sqrt{x^2 + y^2}$ and $\\theta = \\arctan \\left(\\frac{y}{x}\\right)$. ки\n",
      "Step 2: In this case, $x = 0$ and $y = 3$, so $r = \\sqrt{0^2 + 3^2} = 3$. ки\n",
      "Step 3: Since $x$ is 0, the angle $\\theta$ is undefined, but we can choose any angle in the range $0 \\le \\theta < 2 \\pi$. )\n",
      "ProgramState(USER:Solve the following math problem step by step. Steps should be separated with two new lines. The last line of your response should be of the form Answer: $ANSWER (without quotes) where $ANSWER is the answer to the problem.\n",
      "        \n",
      "Convert the point $(0,3)$ in rectangular coordinates to polar coordinates.  Enter your answer in the form $(r,\\theta),$ where $r > 0$ and $0 \\le \\theta < 2 \\pi.$\n",
      "\n",
      "Remember to separate steps with two new lines, and finally put your answer on its own line after \"Answer:\", and you do not need to use a \\boxed command.\n",
      "ASSISTANT:Step 1: To convert from rectangular coordinates to polar coordinates, we use the formulas $r = \\sqrt{x^2 + y^2}$ and $\\theta = \\arctan \\left(\\frac{y}{x}\\right)$. ки\n",
      "Step 2: In this case, $x = 0$ and $y = 3$, so $r = \\sqrt{0^2 + 3^2} = 3$. ки\n",
      "Step 3: Since $x = 0$, the angle $\\theta$ is undefined. ки\n",
      "Step 4: However, we can still write the answer as $(3, \\theta)$ where $\\theta$ is any angle that satisfies $0 \\le \\theta < 2 \\pi$. )\n",
      "ProgramState(USER:Solve the following math problem step by step. Steps should be separated with two new lines. The last line of your response should be of the form Answer: $ANSWER (without quotes) where $ANSWER is the answer to the problem.\n",
      "        \n",
      "Convert the point $(0,3)$ in rectangular coordinates to polar coordinates.  Enter your answer in the form $(r,\\theta),$ where $r > 0$ and $0 \\le \\theta < 2 \\pi.$\n",
      "\n",
      "Remember to separate steps with two new lines, and finally put your answer on its own line after \"Answer:\", and you do not need to use a \\boxed command.\n",
      "ASSISTANT:Step 1: To convert from rectangular coordinates to polar coordinates, we use the formulas $r = \\sqrt{x^2 + y^2}$ and $\\theta = \\arctan \\left(\\frac{y}{x}\\right)$. ки\n",
      "Step 2: In this case, $x = 0$ and $y = 3$, so $r = \\sqrt{0^2 + 3^2} = 3$. ки\n",
      "Step 3: Since $x$ is 0, $\\theta$ is undefined, so we can write $\\theta = \\text{undefined}$. ки\n",
      "Step 4: Therefore, the point $(0,3)$ in polar coordinates is $\\boxed{\\left(3,\\text{undefined}\\right)}$.The answer is: (3,\\text{undefined}) )\n"
     ]
    },
    {
     "name": "stderr",
     "output_type": "stream",
     "text": [
      "100%|██████████| 1/1 [00:05<00:00,  5.40s/it]"
     ]
    },
    {
     "name": "stdout",
     "output_type": "stream",
     "text": [
      "ProgramState(USER:Solve the following math problem step by step. Steps should be separated with two new lines. The last line of your response should be of the form Answer: $ANSWER (without quotes) where $ANSWER is the answer to the problem.\n",
      "        \n",
      "Convert the point $(0,3)$ in rectangular coordinates to polar coordinates.  Enter your answer in the form $(r,\\theta),$ where $r > 0$ and $0 \\le \\theta < 2 \\pi.$\n",
      "\n",
      "Remember to separate steps with two new lines, and finally put your answer on its own line after \"Answer:\", and you do not need to use a \\boxed command.\n",
      "ASSISTANT:Step 1: To convert from rectangular coordinates to polar coordinates, we use the formulas $r = \\sqrt{x^2 + y^2}$ and $\\theta = \\arctan \\left(\\frac{y}{x}\\right)$. ки\n",
      "Step 2: In this case, $x = 0$ and $y = 3$, so $r = \\sqrt{0^2 + 3^2} = 3$. ки\n",
      "Step 3: Since $x = 0$, the angle $\\theta$ is undefined. ки\n",
      "Step 4: However, we can still write the answer as $(3, \\theta)$ where $\\theta$ is any angle that satisfies $0 \\le \\theta < 2 \\pi$. ки\n",
      "Step 5: Therefore, the answer is $(3, \\theta)$ where $0 \\le \\theta < 2 \\pi$.The answer is: (3,\\theta) )\n"
     ]
    },
    {
     "name": "stderr",
     "output_type": "stream",
     "text": [
      "\n"
     ]
    }
   ],
   "source": [
    "bs_states = beam_search.run_batch(\n",
    "    arguments[0:1],\n",
    "    temperature=0,\n",
    "    backend=policy_host,\n",
    "    num_threads=args.parallel,\n",
    "    progress_bar=True,\n",
    ")"
   ]
  },
  {
   "cell_type": "code",
   "execution_count": 20,
   "metadata": {},
   "outputs": [
    {
     "name": "stderr",
     "output_type": "stream",
     "text": [
      "/data/irving/anaconda3/envs/sglang/lib/python3.10/site-packages/tqdm/auto.py:21: TqdmWarning: IProgress not found. Please update jupyter and ipywidgets. See https://ipywidgets.readthedocs.io/en/stable/user_install.html\n",
      "  from .autonotebook import tqdm as notebook_tqdm\n",
      "/data/irving/anaconda3/envs/sglang/lib/python3.10/site-packages/transformers/utils/hub.py:128: FutureWarning: Using `TRANSFORMERS_CACHE` is deprecated and will be removed in v5 of Transformers. Use `HF_HOME` instead.\n",
      "  warnings.warn(\n",
      "2024-11-25 21:31:42,980\tINFO util.py:154 -- Missing packages: ['ipywidgets']. Run `pip install -U ipywidgets`, then restart the notebook server for rich notebook output.\n"
     ]
    }
   ],
   "source": [
    "from dart_math.eval import EvaluatorMath\n",
    "math_evaluator = EvaluatorMath()"
   ]
  },
  {
   "cell_type": "code",
   "execution_count": 22,
   "metadata": {},
   "outputs": [],
   "source": [
    "scores = 0\n",
    "\n",
    "for i, states in enumerate(bs_states):\n",
    "    if len(states.ret_value) == 0:\n",
    "        continue\n",
    "\n",
    "    response_text = states.ret_value[0].text()\n",
    "    match = re.search(ANSWER_PATTERN, response_text.split(\"\\n\")[-1])\n",
    "    extracted_answer = match.group(1) if match else None\n",
    "    # score = 0 if extracted_answer is None else \\\n",
    "    #     float(check_equality(self.equality_checker, row[\"Answer\"], extracted_answer))\n",
    "    answer = examples[i][\"Answer\"]\n",
    "    score = 0 if extracted_answer is None else math_evaluator.eq(answer, extracted_answer)\n",
    "    \n",
    "    print(f\"{extracted_answer} || {answer} || {score}\")\n",
    "    scores += score\n",
    "\n",
    "print(scores/len(bs_states))"
   ]
  },
  {
   "cell_type": "code",
   "execution_count": 79,
   "metadata": {},
   "outputs": [
    {
     "data": {
      "text/plain": [
       "'\\\\left( 3, \\\\frac{\\\\pi}{2} \\\\right)'"
      ]
     },
     "execution_count": 79,
     "metadata": {},
     "output_type": "execute_result"
    }
   ],
   "source": [
    "examples[0]['Answer']"
   ]
  },
  {
   "cell_type": "code",
   "execution_count": 30,
   "metadata": {},
   "outputs": [
    {
     "data": {
      "text/plain": [
       "5"
      ]
     },
     "execution_count": 30,
     "metadata": {},
     "output_type": "execute_result"
    }
   ],
   "source": []
  },
  {
   "cell_type": "code",
   "execution_count": null,
   "metadata": {},
   "outputs": [],
   "source": []
  }
 ],
 "metadata": {
  "kernelspec": {
   "display_name": "base",
   "language": "python",
   "name": "python3"
  },
  "language_info": {
   "codemirror_mode": {
    "name": "ipython",
    "version": 3
   },
   "file_extension": ".py",
   "mimetype": "text/x-python",
   "name": "python",
   "nbconvert_exporter": "python",
   "pygments_lexer": "ipython3",
   "version": "3.10.15"
  }
 },
 "nbformat": 4,
 "nbformat_minor": 2
}
